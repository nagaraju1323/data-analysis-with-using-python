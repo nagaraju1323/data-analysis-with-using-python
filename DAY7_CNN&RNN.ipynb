{
  "nbformat": 4,
  "nbformat_minor": 0,
  "metadata": {
    "colab": {
      "provenance": []
    },
    "kernelspec": {
      "name": "python3",
      "display_name": "Python 3"
    },
    "language_info": {
      "name": "python"
    }
  },
  "cells": [
    {
      "cell_type": "code",
      "execution_count": null,
      "metadata": {
        "colab": {
          "base_uri": "https://localhost:8080/"
        },
        "id": "T2SJQq6-dbv0",
        "outputId": "b3103447-3a22-40bb-a3a1-cd62f831135b"
      },
      "outputs": [
        {
          "output_type": "stream",
          "name": "stdout",
          "text": [
            "Requirement already satisfied: tensorflow in /usr/local/lib/python3.10/dist-packages (2.15.0)\n",
            "Requirement already satisfied: absl-py>=1.0.0 in /usr/local/lib/python3.10/dist-packages (from tensorflow) (1.4.0)\n",
            "Requirement already satisfied: astunparse>=1.6.0 in /usr/local/lib/python3.10/dist-packages (from tensorflow) (1.6.3)\n",
            "Requirement already satisfied: flatbuffers>=23.5.26 in /usr/local/lib/python3.10/dist-packages (from tensorflow) (23.5.26)\n",
            "Requirement already satisfied: gast!=0.5.0,!=0.5.1,!=0.5.2,>=0.2.1 in /usr/local/lib/python3.10/dist-packages (from tensorflow) (0.5.4)\n",
            "Requirement already satisfied: google-pasta>=0.1.1 in /usr/local/lib/python3.10/dist-packages (from tensorflow) (0.2.0)\n",
            "Requirement already satisfied: h5py>=2.9.0 in /usr/local/lib/python3.10/dist-packages (from tensorflow) (3.9.0)\n",
            "Requirement already satisfied: libclang>=13.0.0 in /usr/local/lib/python3.10/dist-packages (from tensorflow) (16.0.6)\n",
            "Requirement already satisfied: ml-dtypes~=0.2.0 in /usr/local/lib/python3.10/dist-packages (from tensorflow) (0.2.0)\n",
            "Requirement already satisfied: numpy<2.0.0,>=1.23.5 in /usr/local/lib/python3.10/dist-packages (from tensorflow) (1.25.2)\n",
            "Requirement already satisfied: opt-einsum>=2.3.2 in /usr/local/lib/python3.10/dist-packages (from tensorflow) (3.3.0)\n",
            "Requirement already satisfied: packaging in /usr/local/lib/python3.10/dist-packages (from tensorflow) (23.2)\n",
            "Requirement already satisfied: protobuf!=4.21.0,!=4.21.1,!=4.21.2,!=4.21.3,!=4.21.4,!=4.21.5,<5.0.0dev,>=3.20.3 in /usr/local/lib/python3.10/dist-packages (from tensorflow) (3.20.3)\n",
            "Requirement already satisfied: setuptools in /usr/local/lib/python3.10/dist-packages (from tensorflow) (67.7.2)\n",
            "Requirement already satisfied: six>=1.12.0 in /usr/local/lib/python3.10/dist-packages (from tensorflow) (1.16.0)\n",
            "Requirement already satisfied: termcolor>=1.1.0 in /usr/local/lib/python3.10/dist-packages (from tensorflow) (2.4.0)\n",
            "Requirement already satisfied: typing-extensions>=3.6.6 in /usr/local/lib/python3.10/dist-packages (from tensorflow) (4.10.0)\n",
            "Requirement already satisfied: wrapt<1.15,>=1.11.0 in /usr/local/lib/python3.10/dist-packages (from tensorflow) (1.14.1)\n",
            "Requirement already satisfied: tensorflow-io-gcs-filesystem>=0.23.1 in /usr/local/lib/python3.10/dist-packages (from tensorflow) (0.36.0)\n",
            "Requirement already satisfied: grpcio<2.0,>=1.24.3 in /usr/local/lib/python3.10/dist-packages (from tensorflow) (1.62.0)\n",
            "Requirement already satisfied: tensorboard<2.16,>=2.15 in /usr/local/lib/python3.10/dist-packages (from tensorflow) (2.15.2)\n",
            "Requirement already satisfied: tensorflow-estimator<2.16,>=2.15.0 in /usr/local/lib/python3.10/dist-packages (from tensorflow) (2.15.0)\n",
            "Requirement already satisfied: keras<2.16,>=2.15.0 in /usr/local/lib/python3.10/dist-packages (from tensorflow) (2.15.0)\n",
            "Requirement already satisfied: wheel<1.0,>=0.23.0 in /usr/local/lib/python3.10/dist-packages (from astunparse>=1.6.0->tensorflow) (0.42.0)\n",
            "Requirement already satisfied: google-auth<3,>=1.6.3 in /usr/local/lib/python3.10/dist-packages (from tensorboard<2.16,>=2.15->tensorflow) (2.27.0)\n",
            "Requirement already satisfied: google-auth-oauthlib<2,>=0.5 in /usr/local/lib/python3.10/dist-packages (from tensorboard<2.16,>=2.15->tensorflow) (1.2.0)\n",
            "Requirement already satisfied: markdown>=2.6.8 in /usr/local/lib/python3.10/dist-packages (from tensorboard<2.16,>=2.15->tensorflow) (3.5.2)\n",
            "Requirement already satisfied: requests<3,>=2.21.0 in /usr/local/lib/python3.10/dist-packages (from tensorboard<2.16,>=2.15->tensorflow) (2.31.0)\n",
            "Requirement already satisfied: tensorboard-data-server<0.8.0,>=0.7.0 in /usr/local/lib/python3.10/dist-packages (from tensorboard<2.16,>=2.15->tensorflow) (0.7.2)\n",
            "Requirement already satisfied: werkzeug>=1.0.1 in /usr/local/lib/python3.10/dist-packages (from tensorboard<2.16,>=2.15->tensorflow) (3.0.1)\n",
            "Requirement already satisfied: cachetools<6.0,>=2.0.0 in /usr/local/lib/python3.10/dist-packages (from google-auth<3,>=1.6.3->tensorboard<2.16,>=2.15->tensorflow) (5.3.3)\n",
            "Requirement already satisfied: pyasn1-modules>=0.2.1 in /usr/local/lib/python3.10/dist-packages (from google-auth<3,>=1.6.3->tensorboard<2.16,>=2.15->tensorflow) (0.3.0)\n",
            "Requirement already satisfied: rsa<5,>=3.1.4 in /usr/local/lib/python3.10/dist-packages (from google-auth<3,>=1.6.3->tensorboard<2.16,>=2.15->tensorflow) (4.9)\n",
            "Requirement already satisfied: requests-oauthlib>=0.7.0 in /usr/local/lib/python3.10/dist-packages (from google-auth-oauthlib<2,>=0.5->tensorboard<2.16,>=2.15->tensorflow) (1.3.1)\n",
            "Requirement already satisfied: charset-normalizer<4,>=2 in /usr/local/lib/python3.10/dist-packages (from requests<3,>=2.21.0->tensorboard<2.16,>=2.15->tensorflow) (3.3.2)\n",
            "Requirement already satisfied: idna<4,>=2.5 in /usr/local/lib/python3.10/dist-packages (from requests<3,>=2.21.0->tensorboard<2.16,>=2.15->tensorflow) (3.6)\n",
            "Requirement already satisfied: urllib3<3,>=1.21.1 in /usr/local/lib/python3.10/dist-packages (from requests<3,>=2.21.0->tensorboard<2.16,>=2.15->tensorflow) (2.0.7)\n",
            "Requirement already satisfied: certifi>=2017.4.17 in /usr/local/lib/python3.10/dist-packages (from requests<3,>=2.21.0->tensorboard<2.16,>=2.15->tensorflow) (2024.2.2)\n",
            "Requirement already satisfied: MarkupSafe>=2.1.1 in /usr/local/lib/python3.10/dist-packages (from werkzeug>=1.0.1->tensorboard<2.16,>=2.15->tensorflow) (2.1.5)\n",
            "Requirement already satisfied: pyasn1<0.6.0,>=0.4.6 in /usr/local/lib/python3.10/dist-packages (from pyasn1-modules>=0.2.1->google-auth<3,>=1.6.3->tensorboard<2.16,>=2.15->tensorflow) (0.5.1)\n",
            "Requirement already satisfied: oauthlib>=3.0.0 in /usr/local/lib/python3.10/dist-packages (from requests-oauthlib>=0.7.0->google-auth-oauthlib<2,>=0.5->tensorboard<2.16,>=2.15->tensorflow) (3.2.2)\n"
          ]
        }
      ],
      "source": [
        "!pip install tensorflow"
      ]
    },
    {
      "cell_type": "code",
      "source": [
        "import tensorflow as tf\n",
        "from tensorflow import keras\n",
        "from tensorflow.keras import layers\n",
        "from tensorflow.keras.preprocessing .image import ImageDataGenerator"
      ],
      "metadata": {
        "id": "t2RKw0O2eIlw"
      },
      "execution_count": null,
      "outputs": []
    },
    {
      "cell_type": "code",
      "source": [
        "#define image size and batch size\n",
        "IMG_SIZE = 224\n",
        "BATCH_SIZE = 32"
      ],
      "metadata": {
        "id": "zYLnyWI-ecjT"
      },
      "execution_count": null,
      "outputs": []
    },
    {
      "cell_type": "code",
      "source": [
        "#creating training data\n",
        "train_datagen = ImageDataGenerator(\n",
        "        rescale=1./255,\n",
        "        validation_split=0.2\n",
        ")"
      ],
      "metadata": {
        "id": "MdZSwou2eeB4"
      },
      "execution_count": null,
      "outputs": []
    },
    {
      "cell_type": "code",
      "source": [
        "#creating training data with above parameters\n",
        "#folder = parameters.flow_from_directory(path,ts,bs,cm,subset)\n",
        "train_generator=train_datagen.flow_from_directory(\"/content/drive/MyDrive/Brain_Tumor_Detection-20240301T062122Z-001/Brain_Tumor_Detection/Train\"\n",
        "                                                  ,target_size=(IMG_SIZE,IMG_SIZE),\n",
        "                                                 batch_size=BATCH_SIZE,\n",
        "                                                 class_mode='binary',\n",
        "                                                 subset='training')"
      ],
      "metadata": {
        "colab": {
          "base_uri": "https://localhost:8080/"
        },
        "id": "DH2NQhZ6eflv",
        "outputId": "58d77ad3-b072-4c10-cf7a-c6f8fc1d11d5"
      },
      "execution_count": null,
      "outputs": [
        {
          "output_type": "stream",
          "name": "stdout",
          "text": [
            "Found 2402 images belonging to 2 classes.\n"
          ]
        }
      ]
    },
    {
      "cell_type": "code",
      "source": [
        "#creating Validation data\n",
        "train_val_generator = train_datagen.flow_from_directory(\"/content/drive/MyDrive/Brain_Tumor_Detection-20240301T062122Z-001/Brain_Tumor_Detection/Train\"\n",
        "                                                       ,target_size=(IMG_SIZE,IMG_SIZE),\n",
        "                                                 batch_size=BATCH_SIZE,\n",
        "                                                 class_mode='binary',\n",
        "                                                 subset='validation')"
      ],
      "metadata": {
        "colab": {
          "base_uri": "https://localhost:8080/"
        },
        "id": "5y8IkZWHehQc",
        "outputId": "98bfd6f1-669d-4423-c59a-e3cdc61b19a4"
      },
      "execution_count": null,
      "outputs": [
        {
          "output_type": "stream",
          "name": "stdout",
          "text": [
            "Found 600 images belonging to 2 classes.\n"
          ]
        }
      ]
    },
    {
      "cell_type": "code",
      "source": [
        "#define the model\n",
        "model=keras.Sequential([\n",
        "layers.Conv2D(32,(3,3),activation='relu',input_shape=(IMG_SIZE,IMG_SIZE,3)),\n",
        "layers.MaxPooling2D((2,2)),\n",
        "layers.Conv2D(64,(3,3),activation='relu'),\n",
        "layers.MaxPooling2D((2,2)),\n",
        "layers.Conv2D(128,(3,3),activation='relu'),\n",
        "layers.MaxPooling2D((2,2)),\n",
        "layers.Flatten(),\n",
        "layers.Dense(128,activation='relu'),\n",
        "layers.Dense(1,activation='sigmoid')\n",
        "])"
      ],
      "metadata": {
        "id": "W479eBKPfIS0"
      },
      "execution_count": null,
      "outputs": []
    },
    {
      "cell_type": "code",
      "source": [],
      "metadata": {
        "id": "yij5tfDNfXJ2"
      },
      "execution_count": null,
      "outputs": []
    },
    {
      "cell_type": "markdown",
      "source": [
        "#RNN\n"
      ],
      "metadata": {
        "id": "YKA2cm49fZL5"
      }
    },
    {
      "cell_type": "code",
      "source": [
        "import numpy as np\n",
        "from keras.models import Sequential\n",
        "from keras.layers import SimpleRNN, Dense, Embedding\n",
        "from keras.preprocessing.text import Tokenizer\n",
        "from keras.preprocessing.sequence import pad_sequences\n",
        "from keras.utils import to_categorical"
      ],
      "metadata": {
        "id": "c0SZU_A5falT"
      },
      "execution_count": null,
      "outputs": []
    },
    {
      "cell_type": "code",
      "source": [
        "#Generating some examples sequential data\n",
        "sentences = [\"NTR\",\"VENKY\",\"COLLEGE\",\"Recurrent Neural Networks are powerful\"]"
      ],
      "metadata": {
        "id": "D9WjE9n3fcp9"
      },
      "execution_count": null,
      "outputs": []
    },
    {
      "cell_type": "code",
      "source": [
        "#Tokenizing the words\n",
        "tokenizer = Tokenizer()\n",
        "tokenizer.fit_on_texts(sentences)\n",
        "total_words = len(tokenizer.word_index) + 1\n",
        "print(total_words)"
      ],
      "metadata": {
        "colab": {
          "base_uri": "https://localhost:8080/"
        },
        "id": "GBFOVTi6ffy6",
        "outputId": "9097208e-ca8d-42c7-e58c-435bdce717b8"
      },
      "execution_count": null,
      "outputs": [
        {
          "output_type": "stream",
          "name": "stdout",
          "text": [
            "9\n"
          ]
        }
      ]
    },
    {
      "cell_type": "code",
      "source": [
        "# Creating input sequences and their corresponding next words\n",
        "input_sequences = []\n",
        "for sentence in sentences:\n",
        "    tokenized_sentence = tokenizer.texts_to_sequences([sentence])[0]\n",
        "    for i in range(1, len(tokenized_sentence)):\n",
        "        n_gram_sequence = tokenized_sentence[:i+1]\n",
        "        input_sequences.append(n_gram_sequence)\n",
        "input_sequences"
      ],
      "metadata": {
        "colab": {
          "base_uri": "https://localhost:8080/"
        },
        "id": "nPOhP_7mfhhN",
        "outputId": "3857c87a-68a5-4c69-a2a2-e8e1fabb6e57"
      },
      "execution_count": null,
      "outputs": [
        {
          "output_type": "execute_result",
          "data": {
            "text/plain": [
              "[[4, 5], [4, 5, 6], [4, 5, 6, 7], [4, 5, 6, 7, 8]]"
            ]
          },
          "metadata": {},
          "execution_count": 4
        }
      ]
    },
    {
      "cell_type": "code",
      "source": [
        "# Padding sequences for consistent input size\n",
        "max_sequence_length = max([len(seq) for seq in input_sequences])\n",
        "input_sequences = pad_sequences(input_sequences, maxlen=max_sequence_length,padding='pre')\n",
        "print(input_sequences)"
      ],
      "metadata": {
        "colab": {
          "base_uri": "https://localhost:8080/"
        },
        "id": "KjXI9Bg4fj1g",
        "outputId": "5191f889-2b18-4741-904a-70faf39ef3be"
      },
      "execution_count": null,
      "outputs": [
        {
          "output_type": "stream",
          "name": "stdout",
          "text": [
            "[[0 0 0 4 5]\n",
            " [0 0 4 5 6]\n",
            " [0 4 5 6 7]\n",
            " [4 5 6 7 8]]\n"
          ]
        }
      ]
    },
    {
      "cell_type": "code",
      "source": [
        "# Creating input and output data\n",
        "X, y = input_sequences[:, :-1], input_sequences[:, -1]\n",
        "y = to_categorical(y, num_classes=total_words)\n"
      ],
      "metadata": {
        "id": "5IVY2MsQfll0"
      },
      "execution_count": null,
      "outputs": []
    },
    {
      "cell_type": "code",
      "source": [
        "# Building a simple RNN model\n",
        "model = Sequential()\n",
        "model.add(Embedding(input_dim=total_words, output_dim=50, input_length=max_sequence_length-1))\n",
        "model.add(SimpleRNN(100, return_sequences=True))\n",
        "model.add(SimpleRNN(100))\n",
        "model.add(Dense(total_words, activation='softmax'))"
      ],
      "metadata": {
        "id": "j5OS_k-dfn6q"
      },
      "execution_count": null,
      "outputs": []
    },
    {
      "cell_type": "code",
      "source": [
        "model.compile(optimizer=\"adam\",loss=\"categorical_crossentropy\",metrics=[\"accuracy\"])\n",
        "model.fit(X,y,epochs=50,verbose=2)"
      ],
      "metadata": {
        "colab": {
          "base_uri": "https://localhost:8080/"
        },
        "id": "7xYRmclifpac",
        "outputId": "21edddb8-9432-42bd-ed06-d72082d77144"
      },
      "execution_count": null,
      "outputs": [
        {
          "output_type": "stream",
          "name": "stdout",
          "text": [
            "Epoch 1/50\n",
            "1/1 - 2s - loss: 2.2545 - accuracy: 0.0000e+00 - 2s/epoch - 2s/step\n",
            "Epoch 2/50\n",
            "1/1 - 0s - loss: 2.0698 - accuracy: 0.5000 - 11ms/epoch - 11ms/step\n",
            "Epoch 3/50\n",
            "1/1 - 0s - loss: 1.8933 - accuracy: 0.7500 - 12ms/epoch - 12ms/step\n",
            "Epoch 4/50\n",
            "1/1 - 0s - loss: 1.7193 - accuracy: 0.7500 - 20ms/epoch - 20ms/step\n",
            "Epoch 5/50\n",
            "1/1 - 0s - loss: 1.5448 - accuracy: 0.7500 - 16ms/epoch - 16ms/step\n",
            "Epoch 6/50\n",
            "1/1 - 0s - loss: 1.3695 - accuracy: 0.7500 - 17ms/epoch - 17ms/step\n",
            "Epoch 7/50\n",
            "1/1 - 0s - loss: 1.1961 - accuracy: 0.7500 - 17ms/epoch - 17ms/step\n",
            "Epoch 8/50\n",
            "1/1 - 0s - loss: 1.0294 - accuracy: 0.7500 - 21ms/epoch - 21ms/step\n",
            "Epoch 9/50\n",
            "1/1 - 0s - loss: 0.8745 - accuracy: 1.0000 - 15ms/epoch - 15ms/step\n",
            "Epoch 10/50\n",
            "1/1 - 0s - loss: 0.7356 - accuracy: 1.0000 - 15ms/epoch - 15ms/step\n",
            "Epoch 11/50\n",
            "1/1 - 0s - loss: 0.6150 - accuracy: 1.0000 - 19ms/epoch - 19ms/step\n",
            "Epoch 12/50\n",
            "1/1 - 0s - loss: 0.5136 - accuracy: 1.0000 - 21ms/epoch - 21ms/step\n",
            "Epoch 13/50\n",
            "1/1 - 0s - loss: 0.4314 - accuracy: 1.0000 - 15ms/epoch - 15ms/step\n",
            "Epoch 14/50\n",
            "1/1 - 0s - loss: 0.3671 - accuracy: 1.0000 - 15ms/epoch - 15ms/step\n",
            "Epoch 15/50\n",
            "1/1 - 0s - loss: 0.3165 - accuracy: 1.0000 - 15ms/epoch - 15ms/step\n",
            "Epoch 16/50\n",
            "1/1 - 0s - loss: 0.2746 - accuracy: 1.0000 - 19ms/epoch - 19ms/step\n",
            "Epoch 17/50\n",
            "1/1 - 0s - loss: 0.2380 - accuracy: 1.0000 - 16ms/epoch - 16ms/step\n",
            "Epoch 18/50\n",
            "1/1 - 0s - loss: 0.2051 - accuracy: 1.0000 - 19ms/epoch - 19ms/step\n",
            "Epoch 19/50\n",
            "1/1 - 0s - loss: 0.1762 - accuracy: 1.0000 - 16ms/epoch - 16ms/step\n",
            "Epoch 20/50\n",
            "1/1 - 0s - loss: 0.1513 - accuracy: 1.0000 - 17ms/epoch - 17ms/step\n",
            "Epoch 21/50\n",
            "1/1 - 0s - loss: 0.1298 - accuracy: 1.0000 - 18ms/epoch - 18ms/step\n",
            "Epoch 22/50\n",
            "1/1 - 0s - loss: 0.1106 - accuracy: 1.0000 - 28ms/epoch - 28ms/step\n",
            "Epoch 23/50\n",
            "1/1 - 0s - loss: 0.0934 - accuracy: 1.0000 - 21ms/epoch - 21ms/step\n",
            "Epoch 24/50\n",
            "1/1 - 0s - loss: 0.0783 - accuracy: 1.0000 - 14ms/epoch - 14ms/step\n",
            "Epoch 25/50\n",
            "1/1 - 0s - loss: 0.0656 - accuracy: 1.0000 - 15ms/epoch - 15ms/step\n",
            "Epoch 26/50\n",
            "1/1 - 0s - loss: 0.0552 - accuracy: 1.0000 - 19ms/epoch - 19ms/step\n",
            "Epoch 27/50\n",
            "1/1 - 0s - loss: 0.0465 - accuracy: 1.0000 - 19ms/epoch - 19ms/step\n",
            "Epoch 28/50\n",
            "1/1 - 0s - loss: 0.0391 - accuracy: 1.0000 - 18ms/epoch - 18ms/step\n",
            "Epoch 29/50\n",
            "1/1 - 0s - loss: 0.0329 - accuracy: 1.0000 - 13ms/epoch - 13ms/step\n",
            "Epoch 30/50\n",
            "1/1 - 0s - loss: 0.0276 - accuracy: 1.0000 - 12ms/epoch - 12ms/step\n",
            "Epoch 31/50\n",
            "1/1 - 0s - loss: 0.0233 - accuracy: 1.0000 - 12ms/epoch - 12ms/step\n",
            "Epoch 32/50\n",
            "1/1 - 0s - loss: 0.0198 - accuracy: 1.0000 - 12ms/epoch - 12ms/step\n",
            "Epoch 33/50\n",
            "1/1 - 0s - loss: 0.0170 - accuracy: 1.0000 - 11ms/epoch - 11ms/step\n",
            "Epoch 34/50\n",
            "1/1 - 0s - loss: 0.0147 - accuracy: 1.0000 - 10ms/epoch - 10ms/step\n",
            "Epoch 35/50\n",
            "1/1 - 0s - loss: 0.0129 - accuracy: 1.0000 - 11ms/epoch - 11ms/step\n",
            "Epoch 36/50\n",
            "1/1 - 0s - loss: 0.0114 - accuracy: 1.0000 - 14ms/epoch - 14ms/step\n",
            "Epoch 37/50\n",
            "1/1 - 0s - loss: 0.0101 - accuracy: 1.0000 - 11ms/epoch - 11ms/step\n",
            "Epoch 38/50\n",
            "1/1 - 0s - loss: 0.0090 - accuracy: 1.0000 - 11ms/epoch - 11ms/step\n",
            "Epoch 39/50\n",
            "1/1 - 0s - loss: 0.0080 - accuracy: 1.0000 - 12ms/epoch - 12ms/step\n",
            "Epoch 40/50\n",
            "1/1 - 0s - loss: 0.0072 - accuracy: 1.0000 - 11ms/epoch - 11ms/step\n",
            "Epoch 41/50\n",
            "1/1 - 0s - loss: 0.0066 - accuracy: 1.0000 - 16ms/epoch - 16ms/step\n",
            "Epoch 42/50\n",
            "1/1 - 0s - loss: 0.0060 - accuracy: 1.0000 - 13ms/epoch - 13ms/step\n",
            "Epoch 43/50\n",
            "1/1 - 0s - loss: 0.0055 - accuracy: 1.0000 - 11ms/epoch - 11ms/step\n",
            "Epoch 44/50\n",
            "1/1 - 0s - loss: 0.0051 - accuracy: 1.0000 - 11ms/epoch - 11ms/step\n",
            "Epoch 45/50\n",
            "1/1 - 0s - loss: 0.0048 - accuracy: 1.0000 - 11ms/epoch - 11ms/step\n",
            "Epoch 46/50\n",
            "1/1 - 0s - loss: 0.0044 - accuracy: 1.0000 - 12ms/epoch - 12ms/step\n",
            "Epoch 47/50\n",
            "1/1 - 0s - loss: 0.0042 - accuracy: 1.0000 - 11ms/epoch - 11ms/step\n",
            "Epoch 48/50\n",
            "1/1 - 0s - loss: 0.0039 - accuracy: 1.0000 - 15ms/epoch - 15ms/step\n",
            "Epoch 49/50\n",
            "1/1 - 0s - loss: 0.0037 - accuracy: 1.0000 - 13ms/epoch - 13ms/step\n",
            "Epoch 50/50\n",
            "1/1 - 0s - loss: 0.0035 - accuracy: 1.0000 - 11ms/epoch - 11ms/step\n"
          ]
        },
        {
          "output_type": "execute_result",
          "data": {
            "text/plain": [
              "<keras.src.callbacks.History at 0x7c9235785180>"
            ]
          },
          "metadata": {},
          "execution_count": 17
        }
      ]
    },
    {
      "cell_type": "code",
      "source": [
        "#Training the model\n",
        "# Generating text using the trained model\n",
        "seed_text = input(\"Enter the starting word: \")\n",
        "next_words = int(input(\"Enter how many words to predict: \"))\n",
        "\n",
        "for _ in range(next_words):\n",
        "    tokenized_seed = tokenizer.texts_to_sequences([seed_text])[0]\n",
        "    tokenized_seed = pad_sequences([tokenized_seed], maxlen=max_sequence_length-1, padding='pre')\n",
        "    predicted_word_index = np.argmax(model.predict(tokenized_seed), axis=-1)\n",
        "    predicted_word = tokenizer.index_word[predicted_word_index[0]]\n",
        "    seed_text += \" \" + predicted_word\n",
        "\n",
        "print(seed_text)"
      ],
      "metadata": {
        "id": "mRnOs9_8frOM"
      },
      "execution_count": null,
      "outputs": []
    },
    {
      "cell_type": "code",
      "source": [],
      "metadata": {
        "id": "buYE_HsSfvBg"
      },
      "execution_count": null,
      "outputs": []
    }
  ]
}