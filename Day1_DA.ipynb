{
  "nbformat": 4,
  "nbformat_minor": 0,
  "metadata": {
    "colab": {
      "provenance": []
    },
    "kernelspec": {
      "name": "python3",
      "display_name": "Python 3"
    },
    "language_info": {
      "name": "python"
    }
  },
  "cells": [
    {
      "cell_type": "code",
      "execution_count": null,
      "metadata": {
        "id": "YC2NQst_TAgp",
        "colab": {
          "base_uri": "https://localhost:8080/"
        },
        "outputId": "767abef2-5d7a-4400-e483-afd7803ae3de"
      },
      "outputs": [
        {
          "output_type": "stream",
          "name": "stdout",
          "text": [
            "i am  10 is years old \n"
          ]
        }
      ],
      "source": [
        "a=10\n",
        "print(\"i am \" ,a, \"is years old \")\n"
      ]
    },
    {
      "cell_type": "code",
      "source": [
        "#arithmetic two int variables\n",
        "a=int(input(\"enter a  value:\"))\n",
        "b=int(input(\"enter b value:\"))\n",
        "print(\"sum is \",(a+b))\n",
        "print(\"differences is\",(a-b))\n",
        "print(\"product is \",(a*b))\n",
        "print(\"quotient is \",(a/b))\n",
        "print(\"remainder is \",(a%b))\n",
        "print(\"power of a to be is\",(a**b))\n",
        "print(\"floor div\",(a//b))"
      ],
      "metadata": {
        "colab": {
          "base_uri": "https://localhost:8080/"
        },
        "id": "7XWOaVEvUMEO",
        "outputId": "1bd27cb9-1652-4960-f6a8-6b96b49944af"
      },
      "execution_count": null,
      "outputs": [
        {
          "output_type": "stream",
          "name": "stdout",
          "text": [
            "enter a  value:10\n",
            "enter b value:50\n",
            "sum is  60\n",
            "differences is -40\n",
            "product is  500\n",
            "quotient is  0.2\n",
            "remainder is  10\n",
            "power of a to be is 100000000000000000000000000000000000000000000000000\n",
            "floor div 0\n"
          ]
        }
      ]
    },
    {
      "cell_type": "code",
      "source": [
        "# take a salary from the user if the salary is more than 50,000 their is the 10% tax .print is final salary\n",
        "s=int(input(\"enter salary:\"))\n",
        "c=s*10/100\n",
        "if s>=50000:\n",
        "  v=s-c\n",
        "  print(\"tax is\",v)\n",
        "else:\n",
        "  print(\"less salary 50k so no tax \",s)"
      ],
      "metadata": {
        "colab": {
          "base_uri": "https://localhost:8080/"
        },
        "id": "OfbBcxmwYwsq",
        "outputId": "757aebb4-d225-48fa-8d0b-7b2048d6f575"
      },
      "execution_count": null,
      "outputs": [
        {
          "output_type": "stream",
          "name": "stdout",
          "text": [
            "enter salary:67000\n",
            "tax is 60300.0\n"
          ]
        }
      ]
    },
    {
      "cell_type": "code",
      "source": [
        "# get the salary from user if the salary the more than equal 50000 apply 10% tax detection  ,if the salary is less than 50000 apply 5% tax,if the salary is more than 70000 apply 12% tax,if the salary exists one lakh print your promoted to next level\n",
        "s=int(input(\"enter the salary:\"))\n",
        "if s<50000:\n",
        "  print(\"salary is  \",s-(s*0.5))\n",
        "elif s>=  50000 and s<=70000:\n",
        "  print(\"salary is\",s-(s*0.1))\n",
        "elif s>70000 and s<=100000:\n",
        "  print(\"salary is\",s-(s*0.12))\n",
        "else:\n",
        "  print(\"PROMOTED !!!\")"
      ],
      "metadata": {
        "colab": {
          "base_uri": "https://localhost:8080/"
        },
        "id": "b4r__YLDcy2M",
        "outputId": "fd16efa7-8d30-454f-92e9-63fa50174722"
      },
      "execution_count": null,
      "outputs": [
        {
          "output_type": "stream",
          "name": "stdout",
          "text": [
            "enter the salary:75000\n",
            "salary is 66000.0\n"
          ]
        }
      ]
    },
    {
      "cell_type": "code",
      "source": [
        "for i in range (1,11):\n",
        "  print(i)"
      ],
      "metadata": {
        "colab": {
          "base_uri": "https://localhost:8080/"
        },
        "id": "b4zlW9GZnRl5",
        "outputId": "84660c9a-5ac5-4c3a-b89d-8da4b412f305"
      },
      "execution_count": null,
      "outputs": [
        {
          "output_type": "stream",
          "name": "stdout",
          "text": [
            "1\n",
            "2\n",
            "3\n",
            "4\n",
            "5\n",
            "6\n",
            "7\n",
            "8\n",
            "9\n",
            "10\n"
          ]
        }
      ]
    },
    {
      "cell_type": "code",
      "source": [
        "# tables for loop:\n",
        "t=int(input(\"enter num:\"))\n",
        "for i in range(1,11):\n",
        "  print(t,\"x\",i,\"=\",t*i)"
      ],
      "metadata": {
        "colab": {
          "base_uri": "https://localhost:8080/"
        },
        "id": "ekbihVa0n3lq",
        "outputId": "858ee0e0-a163-4991-baf3-4c8c47b1ccd4"
      },
      "execution_count": null,
      "outputs": [
        {
          "output_type": "stream",
          "name": "stdout",
          "text": [
            "enter num:8749749\n",
            "8749749 x 1 = 8749749\n",
            "8749749 x 2 = 17499498\n",
            "8749749 x 3 = 26249247\n",
            "8749749 x 4 = 34998996\n",
            "8749749 x 5 = 43748745\n",
            "8749749 x 6 = 52498494\n",
            "8749749 x 7 = 61248243\n",
            "8749749 x 8 = 69997992\n",
            "8749749 x 9 = 78747741\n",
            "8749749 x 10 = 87497490\n"
          ]
        }
      ]
    },
    {
      "cell_type": "code",
      "source": [
        "# table while loop\n",
        "t=int(input(\"enter num:\"))\n",
        "i=1\n",
        "while i<11:\n",
        "  print(t,\"X\",i,\"=\",t*i)\n",
        "  i=i+1\n"
      ],
      "metadata": {
        "colab": {
          "base_uri": "https://localhost:8080/"
        },
        "id": "Nv0Y6-39qz_r",
        "outputId": "71624ead-92d5-4ecd-cab2-6de91d768041"
      },
      "execution_count": null,
      "outputs": [
        {
          "output_type": "stream",
          "name": "stdout",
          "text": [
            "enter num:8\n",
            "8 X 1 = 8\n",
            "8 X 2 = 16\n",
            "8 X 3 = 24\n",
            "8 X 4 = 32\n",
            "8 X 5 = 40\n",
            "8 X 6 = 48\n",
            "8 X 7 = 56\n",
            "8 X 8 = 64\n",
            "8 X 9 = 72\n",
            "8 X 10 = 80\n"
          ]
        }
      ]
    },
    {
      "cell_type": "code",
      "source": [
        "# create a list(heterogenus):\n",
        "l1=[1,\"kill\",89,\"chat\",9.1,True]\n",
        "for i in l1:\n",
        "  print(i)"
      ],
      "metadata": {
        "colab": {
          "base_uri": "https://localhost:8080/"
        },
        "id": "JCpNAJ21rlFy",
        "outputId": "4a9a43ba-a896-4272-8cfc-4fe9b7bdec01"
      },
      "execution_count": null,
      "outputs": [
        {
          "output_type": "stream",
          "name": "stdout",
          "text": [
            "1\n",
            "kill\n",
            "89\n",
            "chat\n",
            "9.1\n",
            "True\n"
          ]
        }
      ]
    },
    {
      "cell_type": "code",
      "source": [
        "#list (mutable):\n",
        "l1.append(\"appended\") #add element a back of the list\n",
        "print(l1)\n",
        "# list (insert):      synatx: listname.insert(index,element)\n",
        "l1.insert(4,\"hi\")\n",
        "print(l1)"
      ],
      "metadata": {
        "colab": {
          "base_uri": "https://localhost:8080/"
        },
        "id": "_91nLmravB34",
        "outputId": "481bedd9-8684-4681-c2d8-5a983aa4094d"
      },
      "execution_count": null,
      "outputs": [
        {
          "output_type": "stream",
          "name": "stdout",
          "text": [
            "[1, 'kill', 89, 'chat', 'hi', 'hi', 'hi', 9.1, True, 'appended', 'appended', 'appended', 'appended']\n",
            "[1, 'kill', 89, 'chat', 'hi', 'hi', 'hi', 'hi', 9.1, True, 'appended', 'appended', 'appended', 'appended']\n"
          ]
        }
      ]
    },
    {
      "cell_type": "code",
      "source": [
        "#create a list and adding to lists\n",
        "l2=[\"anvesh\",\"sai\"]\n",
        "l1.extend(l2)  #l1=l1+l2              syntax:listname.extend(list2)\n",
        "print(l1)"
      ],
      "metadata": {
        "colab": {
          "base_uri": "https://localhost:8080/"
        },
        "id": "IGNYZeApvw1H",
        "outputId": "b09c3caa-52c8-41aa-fb34-fccd2da85057"
      },
      "execution_count": null,
      "outputs": [
        {
          "output_type": "stream",
          "name": "stdout",
          "text": [
            "[1, 'kill', 89, 'chat', 'hi', 'hi', 'hi', 'hi', 9.1, True, 'appended', 'appended', 'appended', 'appended', 'anvesh', 'sai']\n"
          ]
        }
      ]
    },
    {
      "cell_type": "code",
      "source": [
        "#remove a element or poped element in list\n",
        "l1.pop(2)       #pop syntax:listname.pop(index)\n",
        "print(l1)\n"
      ],
      "metadata": {
        "colab": {
          "base_uri": "https://localhost:8080/"
        },
        "id": "JrPu-o-owB7b",
        "outputId": "41cd8d4e-8510-46bd-de9e-8f037082c210"
      },
      "execution_count": null,
      "outputs": [
        {
          "output_type": "stream",
          "name": "stdout",
          "text": [
            "[1, 'kill', 'hi', 'hi', 'hi', 9.1, True, 'appended', 'appended', 'appended', 'appended', 'anvesh', 'sai']\n",
            "[1, 'hi', 'hi', 'hi', 9.1, True, 'appended', 'appended', 'appended', 'appended', 'anvesh', 'sai']\n"
          ]
        }
      ]
    },
    {
      "cell_type": "code",
      "source": [
        "#remove\n",
        "l1.remove(\"hi\")       #remove syntax:listname.remove(element)\n",
        "print(l1)"
      ],
      "metadata": {
        "colab": {
          "base_uri": "https://localhost:8080/"
        },
        "id": "y2DKw_Z3znIT",
        "outputId": "445643cf-38c3-46b2-e4fd-33efc5350c1c"
      },
      "execution_count": null,
      "outputs": [
        {
          "output_type": "stream",
          "name": "stdout",
          "text": [
            "[1, 'hi', 'hi', 9.1, True, 'appended', 'appended', 'appended', 'appended', 'anvesh', 'sai']\n"
          ]
        }
      ]
    },
    {
      "cell_type": "code",
      "source": [
        "#clear a list\n",
        "l1.clear()\n",
        "print(l1)"
      ],
      "metadata": {
        "colab": {
          "base_uri": "https://localhost:8080/"
        },
        "id": "bf-UH9Cszw4i",
        "outputId": "3ce7a6ee-f6e2-4e5c-8849-347b57aff574"
      },
      "execution_count": null,
      "outputs": [
        {
          "output_type": "stream",
          "name": "stdout",
          "text": [
            "[]\n"
          ]
        }
      ]
    },
    {
      "cell_type": "code",
      "source": [
        "#create a list of random 10 integer elements print thier squares.save this square in new list\n",
        "l1=[5,16,78,24,45,27,21,95,65,37]\n",
        "res=[]\n",
        "for i in l1:\n",
        "  res.append(i*i)\n",
        "  print(res)"
      ],
      "metadata": {
        "colab": {
          "base_uri": "https://localhost:8080/"
        },
        "id": "-aa6Hwov0CCs",
        "outputId": "466ce470-90e5-447d-cdfc-2df8d8bcdecd"
      },
      "execution_count": null,
      "outputs": [
        {
          "output_type": "stream",
          "name": "stdout",
          "text": [
            "[25]\n",
            "[25, 256]\n",
            "[25, 256, 6084]\n",
            "[25, 256, 6084, 576]\n",
            "[25, 256, 6084, 576, 2025]\n",
            "[25, 256, 6084, 576, 2025, 729]\n",
            "[25, 256, 6084, 576, 2025, 729, 441]\n",
            "[25, 256, 6084, 576, 2025, 729, 441, 9025]\n",
            "[25, 256, 6084, 576, 2025, 729, 441, 9025, 4225]\n",
            "[25, 256, 6084, 576, 2025, 729, 441, 9025, 4225, 1369]\n"
          ]
        }
      ]
    },
    {
      "cell_type": "code",
      "source": [
        "#another way above program\n",
        "#lc\n",
        "#newlist=[output for]\n",
        "l1=[46,456,53,464,44,946,46]\n",
        "res=[i*i for i in l1]\n",
        "print(res)"
      ],
      "metadata": {
        "colab": {
          "base_uri": "https://localhost:8080/"
        },
        "id": "7aJZovPp03XQ",
        "outputId": "af22a4fc-0e38-48b5-a87b-869f86dbcf6d"
      },
      "execution_count": null,
      "outputs": [
        {
          "output_type": "stream",
          "name": "stdout",
          "text": [
            "[2116, 207936, 2809, 215296, 1936, 894916, 2116]\n"
          ]
        }
      ]
    },
    {
      "cell_type": "code",
      "source": [
        "#another way above program\n",
        "#lc\n",
        "#newlist=[(st of if) if (cond) else (st of else for)]\n",
        "l1=[65,35,37,12,68,23]\n",
        "res=[i*i if i>50 else 'x' for i in l1]\n",
        "print(res)\n"
      ],
      "metadata": {
        "id": "vlUncnrO3Eer",
        "colab": {
          "base_uri": "https://localhost:8080/"
        },
        "outputId": "43c3b9a9-60e6-46cd-dd2c-0c7d3ea232b5"
      },
      "execution_count": null,
      "outputs": [
        {
          "output_type": "stream",
          "name": "stdout",
          "text": [
            "[4225, 'x', 'x', 'x', 4624, 'x']\n"
          ]
        }
      ]
    },
    {
      "cell_type": "code",
      "source": [
        "#take the salary from the user if the salary less than 50k 10% tax otherwise 15% tax\n",
        "s=[324565,58000,75000,45000]\n",
        "res= [i-i*0.1 if i<50000 else i-i*0.15 for i in s]\n",
        "print(res)"
      ],
      "metadata": {
        "colab": {
          "base_uri": "https://localhost:8080/"
        },
        "id": "gs0NXo-pIDju",
        "outputId": "54ad5695-4c14-4be3-b12c-2aa825dfdc9e"
      },
      "execution_count": null,
      "outputs": [
        {
          "output_type": "stream",
          "name": "stdout",
          "text": [
            "[275880.25, 49300.0, 63750.0, 40500.0]\n"
          ]
        }
      ]
    },
    {
      "cell_type": "code",
      "source": [
        "dict1={'mentor':'Jwalitha',10:'gagan',20:'jogendra',30:'harish'}\n",
        "print(dict1)"
      ],
      "metadata": {
        "colab": {
          "base_uri": "https://localhost:8080/"
        },
        "id": "U7aagUGANlps",
        "outputId": "68e3404e-6d81-4ff0-f602-5ebf94d5b8a5"
      },
      "execution_count": null,
      "outputs": [
        {
          "output_type": "stream",
          "name": "stdout",
          "text": [
            "{'mentor': 'Jwalitha', 10: 'gagan', 20: 'jogendra', 30: 'harish'}\n"
          ]
        }
      ]
    },
    {
      "cell_type": "code",
      "source": [
        "dict1={10:'gagan',20:'jogendra',30:'harish'}\n",
        "print(dict1.values())\n",
        "print(dict1.keys())\n",
        "print(dict1[10])\n"
      ],
      "metadata": {
        "colab": {
          "base_uri": "https://localhost:8080/"
        },
        "id": "mFRVLtRCPM8K",
        "outputId": "f359ce3a-1c23-42f3-e9a2-dbc80e28dca4"
      },
      "execution_count": null,
      "outputs": [
        {
          "output_type": "stream",
          "name": "stdout",
          "text": [
            "dict_values(['gagan', 'jogendra', 'harish'])\n",
            "dict_keys([10, 20, 30])\n",
            "gagan\n"
          ]
        }
      ]
    },
    {
      "cell_type": "code",
      "source": [
        "dic3={'Dept':'CSE','details':{'years':'II','sec':'D','count':71}}\n",
        "print(\"year is\",dic3[\"details\"][\"year\"])\n",
        "print(\"section is\",dic3[\"details\"][\"sec\"])\n",
        "print(\"strength is \",dic3[\"details\"][\"count\"])\n",
        "\n"
      ],
      "metadata": {
        "colab": {
          "base_uri": "https://localhost:8080/",
          "height": 211
        },
        "id": "C-JraT7KQJNA",
        "outputId": "376430d3-c33f-49d4-cf01-b90892f34981"
      },
      "execution_count": null,
      "outputs": [
        {
          "output_type": "error",
          "ename": "KeyError",
          "evalue": "'year'",
          "traceback": [
            "\u001b[0;31m---------------------------------------------------------------------------\u001b[0m",
            "\u001b[0;31mKeyError\u001b[0m                                  Traceback (most recent call last)",
            "\u001b[0;32m<ipython-input-27-c886ab01a457>\u001b[0m in \u001b[0;36m<cell line: 2>\u001b[0;34m()\u001b[0m\n\u001b[1;32m      1\u001b[0m \u001b[0mdic3\u001b[0m\u001b[0;34m=\u001b[0m\u001b[0;34m{\u001b[0m\u001b[0;34m'Dept'\u001b[0m\u001b[0;34m:\u001b[0m\u001b[0;34m'CSE'\u001b[0m\u001b[0;34m,\u001b[0m\u001b[0;34m'details'\u001b[0m\u001b[0;34m:\u001b[0m\u001b[0;34m{\u001b[0m\u001b[0;34m'years'\u001b[0m\u001b[0;34m:\u001b[0m\u001b[0;34m'II'\u001b[0m\u001b[0;34m,\u001b[0m\u001b[0;34m'sec'\u001b[0m\u001b[0;34m:\u001b[0m\u001b[0;34m'D'\u001b[0m\u001b[0;34m,\u001b[0m\u001b[0;34m'count'\u001b[0m\u001b[0;34m:\u001b[0m\u001b[0;36m71\u001b[0m\u001b[0;34m}\u001b[0m\u001b[0;34m}\u001b[0m\u001b[0;34m\u001b[0m\u001b[0;34m\u001b[0m\u001b[0m\n\u001b[0;32m----> 2\u001b[0;31m \u001b[0mprint\u001b[0m\u001b[0;34m(\u001b[0m\u001b[0;34m\"year is\"\u001b[0m\u001b[0;34m,\u001b[0m\u001b[0mdic3\u001b[0m\u001b[0;34m[\u001b[0m\u001b[0;34m\"details\"\u001b[0m\u001b[0;34m]\u001b[0m\u001b[0;34m[\u001b[0m\u001b[0;34m\"year\"\u001b[0m\u001b[0;34m]\u001b[0m\u001b[0;34m)\u001b[0m\u001b[0;34m\u001b[0m\u001b[0;34m\u001b[0m\u001b[0m\n\u001b[0m\u001b[1;32m      3\u001b[0m \u001b[0mprint\u001b[0m\u001b[0;34m(\u001b[0m\u001b[0;34m\"section is\"\u001b[0m\u001b[0;34m,\u001b[0m\u001b[0mdic3\u001b[0m\u001b[0;34m[\u001b[0m\u001b[0;34m\"details\"\u001b[0m\u001b[0;34m]\u001b[0m\u001b[0;34m[\u001b[0m\u001b[0;34m\"sec\"\u001b[0m\u001b[0;34m]\u001b[0m\u001b[0;34m)\u001b[0m\u001b[0;34m\u001b[0m\u001b[0;34m\u001b[0m\u001b[0m\n\u001b[1;32m      4\u001b[0m \u001b[0mprint\u001b[0m\u001b[0;34m(\u001b[0m\u001b[0;34m\"strength is \"\u001b[0m\u001b[0;34m,\u001b[0m\u001b[0mdic3\u001b[0m\u001b[0;34m[\u001b[0m\u001b[0;34m\"details\"\u001b[0m\u001b[0;34m]\u001b[0m\u001b[0;34m[\u001b[0m\u001b[0;34m\"count\"\u001b[0m\u001b[0;34m]\u001b[0m\u001b[0;34m)\u001b[0m\u001b[0;34m\u001b[0m\u001b[0;34m\u001b[0m\u001b[0m\n\u001b[1;32m      5\u001b[0m \u001b[0;34m\u001b[0m\u001b[0m\n",
            "\u001b[0;31mKeyError\u001b[0m: 'year'"
          ]
        }
      ]
    },
    {
      "cell_type": "code",
      "source": [
        "idl = [80,56,64,24,52]\n",
        "names=['gagan','sai','jogendra','anvesh']\n",
        "zip=(zip(idl,names))\n",
        "for i in zip:\n",
        "  print(i)"
      ],
      "metadata": {
        "colab": {
          "base_uri": "https://localhost:8080/"
        },
        "id": "aSjeAD9zSGnE",
        "outputId": "497d6682-6945-45a0-cba6-a2fb654568b3"
      },
      "execution_count": null,
      "outputs": [
        {
          "output_type": "stream",
          "name": "stdout",
          "text": [
            "(80, 'gagan')\n",
            "(56, 'sai')\n",
            "(64, 'jogendra')\n",
            "(24, 'anvesh')\n"
          ]
        }
      ]
    },
    {
      "cell_type": "code",
      "source": [
        "#numpy\n",
        "import numpy as np\n",
        "A=np.array([1,2,3,4])     #1D array\n",
        "print(A.ndim)\n",
        "print(A.shape)"
      ],
      "metadata": {
        "colab": {
          "base_uri": "https://localhost:8080/"
        },
        "id": "GD_SRLGJeUru",
        "outputId": "bf761e15-6357-4712-8357-4bd7bb9f27dd"
      },
      "execution_count": null,
      "outputs": [
        {
          "output_type": "stream",
          "name": "stdout",
          "text": [
            "1\n",
            "(4,)\n"
          ]
        }
      ]
    },
    {
      "cell_type": "code",
      "source": [
        "#numpy     2D array\n",
        "import numpy as np\n",
        "A=np.array([[25,26,78,1],[58,51,18,37]])\n",
        "#elements in each row=columns\n",
        "print(A.ndim)\n",
        "print(A.shape)\n",
        "print(A)"
      ],
      "metadata": {
        "colab": {
          "base_uri": "https://localhost:8080/"
        },
        "id": "v3J30SdffIcb",
        "outputId": "ab1f389c-cc7a-4dcc-e4ba-f3228c289838"
      },
      "execution_count": null,
      "outputs": [
        {
          "output_type": "stream",
          "name": "stdout",
          "text": [
            "2\n",
            "(2, 4)\n",
            "[[25 26 78  1]\n",
            " [58 51 18 37]]\n"
          ]
        }
      ]
    },
    {
      "cell_type": "code",
      "source": [
        "# numpy 3D array\n",
        "import numpy as np\n",
        "x=np.array([[[10],[20],[30]],[[40],[50],[60]],[[10],[20],[3]],[[40],[50],[60]]])\n",
        "print(x.ndim)\n",
        "print(x.shape)\n",
        "print(x)"
      ],
      "metadata": {
        "colab": {
          "base_uri": "https://localhost:8080/"
        },
        "id": "16M9oIDTgwMy",
        "outputId": "7a782220-11c1-4331-a6c8-c1f2b804b00b"
      },
      "execution_count": null,
      "outputs": [
        {
          "output_type": "stream",
          "name": "stdout",
          "text": [
            "3\n",
            "(4, 3, 1)\n",
            "[[[10]\n",
            "  [20]\n",
            "  [30]]\n",
            "\n",
            " [[40]\n",
            "  [50]\n",
            "  [60]]\n",
            "\n",
            " [[10]\n",
            "  [20]\n",
            "  [ 3]]\n",
            "\n",
            " [[40]\n",
            "  [50]\n",
            "  [60]]]\n"
          ]
        }
      ]
    },
    {
      "cell_type": "code",
      "source": [
        "x=np.ones((2,3))  #2d array\n",
        "print(x)"
      ],
      "metadata": {
        "colab": {
          "base_uri": "https://localhost:8080/"
        },
        "id": "bhfU2Wmoi2Tf",
        "outputId": "fda8d0d1-1ec2-4b03-b63a-71bb24f49303"
      },
      "execution_count": null,
      "outputs": [
        {
          "output_type": "stream",
          "name": "stdout",
          "text": [
            "[[1. 1. 1.]\n",
            " [1. 1. 1.]]\n"
          ]
        }
      ]
    },
    {
      "cell_type": "markdown",
      "source": [
        "x=np.zeros((4,5,2))   #3d array\n",
        "print(x)"
      ],
      "metadata": {
        "id": "umK2DeDpjUZ4"
      }
    },
    {
      "cell_type": "code",
      "source": [
        "x=np.eye(4)     #identity matrics\n",
        "print(x)"
      ],
      "metadata": {
        "colab": {
          "base_uri": "https://localhost:8080/"
        },
        "id": "iR42s_OljyJO",
        "outputId": "9438a647-5c07-492b-d7ed-6cfc167db933"
      },
      "execution_count": null,
      "outputs": [
        {
          "output_type": "stream",
          "name": "stdout",
          "text": [
            "[[1. 0. 0. 0.]\n",
            " [0. 1. 0. 0.]\n",
            " [0. 0. 1. 0.]\n",
            " [0. 0. 0. 1.]]\n"
          ]
        }
      ]
    },
    {
      "cell_type": "code",
      "source": [
        "x=np.arange(1,10,2)   #start,stop,step\n",
        "print(x)\n",
        "print(type(x))"
      ],
      "metadata": {
        "colab": {
          "base_uri": "https://localhost:8080/"
        },
        "id": "FM49BkuLk181",
        "outputId": "91e02d95-ac42-42cb-df98-cdd22fc8ae6a"
      },
      "execution_count": null,
      "outputs": [
        {
          "output_type": "stream",
          "name": "stdout",
          "text": [
            "[1 3 5 7 9]\n",
            "<class 'numpy.ndarray'>\n"
          ]
        }
      ]
    },
    {
      "cell_type": "code",
      "source": [
        "#print all number are d\n",
        "x=np.arange(8,1001,8)     #8th table upto 1000 range\n",
        "print(x)\n",
        "print(type(x))"
      ],
      "metadata": {
        "colab": {
          "base_uri": "https://localhost:8080/"
        },
        "id": "P8t50UMpk-4R",
        "outputId": "fbc09286-0252-4d18-ec95-302d0eff04bd"
      },
      "execution_count": null,
      "outputs": [
        {
          "output_type": "stream",
          "name": "stdout",
          "text": [
            "[   8   16   24   32   40   48   56   64   72   80   88   96  104  112\n",
            "  120  128  136  144  152  160  168  176  184  192  200  208  216  224\n",
            "  232  240  248  256  264  272  280  288  296  304  312  320  328  336\n",
            "  344  352  360  368  376  384  392  400  408  416  424  432  440  448\n",
            "  456  464  472  480  488  496  504  512  520  528  536  544  552  560\n",
            "  568  576  584  592  600  608  616  624  632  640  648  656  664  672\n",
            "  680  688  696  704  712  720  728  736  744  752  760  768  776  784\n",
            "  792  800  808  816  824  832  840  848  856  864  872  880  888  896\n",
            "  904  912  920  928  936  944  952  960  968  976  984  992 1000]\n",
            "<class 'numpy.ndarray'>\n"
          ]
        }
      ]
    },
    {
      "cell_type": "code",
      "source": [
        "#spliting a range into n numbers with common differences\n",
        "x=np.linspace(50,54,50)                     #upper,lower,n numbers\n",
        "print(x)"
      ],
      "metadata": {
        "colab": {
          "base_uri": "https://localhost:8080/"
        },
        "id": "Egb1GGdvmiTT",
        "outputId": "a6c4f867-1554-4db6-ca72-a0540a7642b7"
      },
      "execution_count": null,
      "outputs": [
        {
          "output_type": "stream",
          "name": "stdout",
          "text": [
            "[50.         50.08163265 50.16326531 50.24489796 50.32653061 50.40816327\n",
            " 50.48979592 50.57142857 50.65306122 50.73469388 50.81632653 50.89795918\n",
            " 50.97959184 51.06122449 51.14285714 51.2244898  51.30612245 51.3877551\n",
            " 51.46938776 51.55102041 51.63265306 51.71428571 51.79591837 51.87755102\n",
            " 51.95918367 52.04081633 52.12244898 52.20408163 52.28571429 52.36734694\n",
            " 52.44897959 52.53061224 52.6122449  52.69387755 52.7755102  52.85714286\n",
            " 52.93877551 53.02040816 53.10204082 53.18367347 53.26530612 53.34693878\n",
            " 53.42857143 53.51020408 53.59183673 53.67346939 53.75510204 53.83673469\n",
            " 53.91836735 54.        ]\n"
          ]
        }
      ]
    },
    {
      "cell_type": "code",
      "source": [
        "#\n",
        "t = (\"apple\", \"banana\", \"cherry\", \"apple\", \"cherry\")\n",
        "print(t)"
      ],
      "metadata": {
        "id": "AMeTv4QgnwH8",
        "colab": {
          "base_uri": "https://localhost:8080/"
        },
        "outputId": "b652cc76-7c75-4984-c2e7-6f2145b69ba4"
      },
      "execution_count": null,
      "outputs": [
        {
          "output_type": "stream",
          "name": "stdout",
          "text": [
            "('apple', 'banana', 'cherry', 'apple', 'cherry')\n"
          ]
        }
      ]
    },
    {
      "cell_type": "code",
      "source": [
        "#concatenating 2 tuples\n",
        "tuple1 = (0, 1, 2, 3)\n",
        "tuple2 = ('python', 'geek')\n",
        "print(tuple1 + tuple2)"
      ],
      "metadata": {
        "colab": {
          "base_uri": "https://localhost:8080/"
        },
        "id": "Oect9xhWchfE",
        "outputId": "f7d6a302-730d-460d-fe0f-1d5ba7bf88a7"
      },
      "execution_count": null,
      "outputs": [
        {
          "output_type": "stream",
          "name": "stdout",
          "text": [
            "(0, 1, 2, 3, 'python', 'geek')\n"
          ]
        }
      ]
    },
    {
      "cell_type": "code",
      "source": [
        "t1=('a','b','c')\n",
        "t2=(1,2,3,4)\n",
        "print(t1+t2)"
      ],
      "metadata": {
        "colab": {
          "base_uri": "https://localhost:8080/"
        },
        "id": "D061ZYB4cruK",
        "outputId": "574812bf-2b37-4d7d-e7df-945acc8355c3"
      },
      "execution_count": null,
      "outputs": [
        {
          "output_type": "stream",
          "name": "stdout",
          "text": [
            "('a', 'b', 'c', 1, 2, 3, 4)\n"
          ]
        }
      ]
    },
    {
      "cell_type": "code",
      "source": [
        "# Code for concatenating 2 tuples\n",
        "tuple1 = (0, 1, 2, 3)\n",
        "tuple2 = ('python', 'geek')\n",
        "\n",
        "# Concatenating above two\n",
        "print(tuple1 + tuple2)\n"
      ],
      "metadata": {
        "colab": {
          "base_uri": "https://localhost:8080/"
        },
        "id": "fR3ZjBoJf-L-",
        "outputId": "e100ba89-2459-4a86-c5e5-9498e1df66db"
      },
      "execution_count": null,
      "outputs": [
        {
          "output_type": "stream",
          "name": "stdout",
          "text": [
            "(0, 1, 2, 3, 'python', 'geek')\n"
          ]
        }
      ]
    },
    {
      "cell_type": "code",
      "source": [
        "min(t1)\n",
        "max(t2)"
      ],
      "metadata": {
        "colab": {
          "base_uri": "https://localhost:8080/"
        },
        "id": "zJVnD9Bbdv-2",
        "outputId": "e73342f2-86e2-4be0-c04b-7f93ad9798d6"
      },
      "execution_count": null,
      "outputs": [
        {
          "output_type": "execute_result",
          "data": {
            "text/plain": [
              "4"
            ]
          },
          "metadata": {},
          "execution_count": 7
        }
      ]
    },
    {
      "cell_type": "code",
      "source": [
        "a=[31,6,34,68,54]\n",
        "#print(sorted(a))\n",
        "\n",
        "print(a)"
      ],
      "metadata": {
        "id": "qxEIJ3QugE4i",
        "outputId": "a72c7edc-c74d-4912-a7a4-1a9c9e08d269",
        "colab": {
          "base_uri": "https://localhost:8080/"
        }
      },
      "execution_count": null,
      "outputs": [
        {
          "output_type": "stream",
          "name": "stdout",
          "text": [
            "[31, 6, 34, 68, 54]\n"
          ]
        }
      ]
    },
    {
      "cell_type": "markdown",
      "source": [
        "sets\n"
      ],
      "metadata": {
        "id": "tSYTCtTjUe83"
      }
    },
    {
      "cell_type": "code",
      "source": [
        "myset = {\"apple\", \"banana\", \"cherry\"}"
      ],
      "metadata": {
        "id": "Hoe9e9cqUg7u"
      },
      "execution_count": null,
      "outputs": []
    },
    {
      "cell_type": "code",
      "source": [
        "thisset = {\"apple\", \"banana\", \"cherry\"}\n",
        "print(thisset)\n"
      ],
      "metadata": {
        "id": "wcIYq4RPU205"
      },
      "execution_count": null,
      "outputs": []
    },
    {
      "cell_type": "code",
      "source": [
        "thisset = {\"apple\", \"banana\", \"cherry\", \"apple\"}\n",
        "\n",
        "print(thisset)"
      ],
      "metadata": {
        "id": "HrEup0XsU6V6"
      },
      "execution_count": null,
      "outputs": []
    },
    {
      "cell_type": "code",
      "source": [
        "thisset = {\"apple\", \"banana\", \"cherry\", True, 1, 2}\n",
        "\n",
        "print(thisset)"
      ],
      "metadata": {
        "id": "RJY5bJ3wVJPi"
      },
      "execution_count": null,
      "outputs": []
    },
    {
      "cell_type": "code",
      "source": [
        "thisset = {\"apple\", \"banana\", \"cherry\", False, True, 0}\n",
        "\n",
        "print(thisset)"
      ],
      "metadata": {
        "id": "4n8zkgfmVJ5l"
      },
      "execution_count": null,
      "outputs": []
    },
    {
      "cell_type": "code",
      "source": [
        "thisset = {\"apple\", \"banana\", \"cherry\"}\n",
        "\n",
        "print(len(thisset))"
      ],
      "metadata": {
        "colab": {
          "base_uri": "https://localhost:8080/"
        },
        "id": "mrHko59LVNju",
        "outputId": "2dca7a24-f3ea-4e64-c975-700466113c3e"
      },
      "execution_count": null,
      "outputs": [
        {
          "output_type": "stream",
          "name": "stdout",
          "text": [
            "3\n"
          ]
        }
      ]
    }
  ]
}