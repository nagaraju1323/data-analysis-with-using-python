{
  "nbformat": 4,
  "nbformat_minor": 0,
  "metadata": {
    "colab": {
      "provenance": []
    },
    "kernelspec": {
      "name": "python3",
      "display_name": "Python 3"
    },
    "language_info": {
      "name": "python"
    }
  },
  "cells": [
    {
      "cell_type": "code",
      "execution_count": null,
      "metadata": {
        "id": "R6JgJF3fMJfx"
      },
      "outputs": [],
      "source": [
        "import numpy as np\n",
        "from keras.models import Sequential\n",
        "from keras.layers import SimpleRNN,Dense,Embedding\n",
        "from keras.preprocessing.text import Tokenizer\n",
        "from keras.preprocessing.sequence import pad_sequences\n",
        "from keras.utils import to_categorical"
      ]
    },
    {
      "cell_type": "code",
      "source": [
        "#Generating some example sequential data\n",
        "sentences=['Amma ','Nanna','NTR','Today topic is RNN']"
      ],
      "metadata": {
        "id": "p-fye7SmMWFM"
      },
      "execution_count": null,
      "outputs": []
    },
    {
      "cell_type": "code",
      "source": [
        "# Tkoenizing the words\n",
        "tokenizer=Tokenizer()\n",
        "tokenizer.fit_on_texts(sentences)\n",
        "total_words=len(tokenizer.word_index)+1\n",
        "print(total_words)"
      ],
      "metadata": {
        "colab": {
          "base_uri": "https://localhost:8080/"
        },
        "id": "G_Z_wP47MX2w",
        "outputId": "51573e28-7569-41db-85c0-738d2b814ff9"
      },
      "execution_count": null,
      "outputs": [
        {
          "output_type": "stream",
          "name": "stdout",
          "text": [
            "8\n"
          ]
        }
      ]
    },
    {
      "cell_type": "code",
      "source": [
        "# Creating input sequences and their corresponding next words\n",
        "input_sequences = []\n",
        "for sentence in sentences:\n",
        "    tokenized_sentence = tokenizer.texts_to_sequences([sentence])[0]\n",
        "    for i in range(1, len(tokenized_sentence)):\n",
        "        n_gram_sequence = tokenized_sentence[:i+1]\n",
        "        input_sequences.append(n_gram_sequence)\n",
        "input_sequences"
      ],
      "metadata": {
        "colab": {
          "base_uri": "https://localhost:8080/"
        },
        "id": "IpLTAeZeMZR7",
        "outputId": "a7460632-49c7-4124-e9e7-24a613c73f7e"
      },
      "execution_count": null,
      "outputs": [
        {
          "output_type": "execute_result",
          "data": {
            "text/plain": [
              "[[4, 5], [4, 5, 6], [4, 5, 6, 7]]"
            ]
          },
          "metadata": {},
          "execution_count": 16
        }
      ]
    },
    {
      "cell_type": "code",
      "source": [
        "# Padding sequences for consistent input size\n",
        "max_sequence_length = max([len(seq) for seq in input_sequences])\n",
        "input_sequences = pad_sequences(input_sequences, maxlen=max_sequence_length,padding='pre')"
      ],
      "metadata": {
        "id": "pU1C0aXRMbA8"
      },
      "execution_count": null,
      "outputs": []
    },
    {
      "cell_type": "code",
      "source": [
        "input_sequences"
      ],
      "metadata": {
        "colab": {
          "base_uri": "https://localhost:8080/"
        },
        "id": "kBZS38sfMi4u",
        "outputId": "3b622d32-8b25-4a54-e50f-63e456c0fa2a"
      },
      "execution_count": null,
      "outputs": [
        {
          "output_type": "execute_result",
          "data": {
            "text/plain": [
              "array([[0, 0, 4, 5],\n",
              "       [0, 4, 5, 6],\n",
              "       [4, 5, 6, 7]], dtype=int32)"
            ]
          },
          "metadata": {},
          "execution_count": 18
        }
      ]
    },
    {
      "cell_type": "code",
      "source": [
        "# Creating input and output data\n",
        "X, y = input_sequences[:, :-1], input_sequences[:, -1]\n",
        "y = to_categorical(y, num_classes=total_words)"
      ],
      "metadata": {
        "id": "5CRw0kWDMdFN"
      },
      "execution_count": null,
      "outputs": []
    },
    {
      "cell_type": "code",
      "source": [
        "# Building a simple RNN model\n",
        "model = Sequential()\n",
        "model.add(Embedding(input_dim=total_words, output_dim=50, input_length=max_sequence_length-1))\n",
        "model.add(SimpleRNN(100, return_sequences=True))\n",
        "model.add(SimpleRNN(100))\n",
        "model.add(Dense(total_words, activation='softmax'))"
      ],
      "metadata": {
        "id": "_gK95uxbMfCq"
      },
      "execution_count": null,
      "outputs": []
    },
    {
      "cell_type": "code",
      "source": [
        "#compiling the model\n",
        "model.compile(optimizer='adam',loss='categorical_crossentropy',metrics=['accuracy'])\n",
        "#training Model\n",
        "model.fit(X,y,epochs=50,verbose=2)"
      ],
      "metadata": {
        "colab": {
          "base_uri": "https://localhost:8080/"
        },
        "id": "3jw8eeb1MmRz",
        "outputId": "24973050-7287-4e3e-add2-8b5c90f963b3"
      },
      "execution_count": null,
      "outputs": [
        {
          "output_type": "stream",
          "name": "stdout",
          "text": [
            "Epoch 1/50\n",
            "1/1 - 2s - loss: 2.1135 - accuracy: 0.0000e+00 - 2s/epoch - 2s/step\n",
            "Epoch 2/50\n",
            "1/1 - 0s - loss: 1.9803 - accuracy: 0.3333 - 10ms/epoch - 10ms/step\n",
            "Epoch 3/50\n",
            "1/1 - 0s - loss: 1.8491 - accuracy: 1.0000 - 11ms/epoch - 11ms/step\n",
            "Epoch 4/50\n",
            "1/1 - 0s - loss: 1.7163 - accuracy: 1.0000 - 10ms/epoch - 10ms/step\n",
            "Epoch 5/50\n",
            "1/1 - 0s - loss: 1.5790 - accuracy: 1.0000 - 9ms/epoch - 9ms/step\n",
            "Epoch 6/50\n",
            "1/1 - 0s - loss: 1.4359 - accuracy: 1.0000 - 11ms/epoch - 11ms/step\n",
            "Epoch 7/50\n",
            "1/1 - 0s - loss: 1.2870 - accuracy: 1.0000 - 13ms/epoch - 13ms/step\n",
            "Epoch 8/50\n",
            "1/1 - 0s - loss: 1.1341 - accuracy: 1.0000 - 15ms/epoch - 15ms/step\n",
            "Epoch 9/50\n",
            "1/1 - 0s - loss: 0.9809 - accuracy: 1.0000 - 15ms/epoch - 15ms/step\n",
            "Epoch 10/50\n",
            "1/1 - 0s - loss: 0.8320 - accuracy: 1.0000 - 14ms/epoch - 14ms/step\n",
            "Epoch 11/50\n",
            "1/1 - 0s - loss: 0.6928 - accuracy: 1.0000 - 12ms/epoch - 12ms/step\n",
            "Epoch 12/50\n",
            "1/1 - 0s - loss: 0.5682 - accuracy: 1.0000 - 13ms/epoch - 13ms/step\n",
            "Epoch 13/50\n",
            "1/1 - 0s - loss: 0.4610 - accuracy: 1.0000 - 13ms/epoch - 13ms/step\n",
            "Epoch 14/50\n",
            "1/1 - 0s - loss: 0.3721 - accuracy: 1.0000 - 14ms/epoch - 14ms/step\n",
            "Epoch 15/50\n",
            "1/1 - 0s - loss: 0.3003 - accuracy: 1.0000 - 11ms/epoch - 11ms/step\n",
            "Epoch 16/50\n",
            "1/1 - 0s - loss: 0.2435 - accuracy: 1.0000 - 16ms/epoch - 16ms/step\n",
            "Epoch 17/50\n",
            "1/1 - 0s - loss: 0.1988 - accuracy: 1.0000 - 12ms/epoch - 12ms/step\n",
            "Epoch 18/50\n",
            "1/1 - 0s - loss: 0.1632 - accuracy: 1.0000 - 14ms/epoch - 14ms/step\n",
            "Epoch 19/50\n",
            "1/1 - 0s - loss: 0.1339 - accuracy: 1.0000 - 16ms/epoch - 16ms/step\n",
            "Epoch 20/50\n",
            "1/1 - 0s - loss: 0.1094 - accuracy: 1.0000 - 14ms/epoch - 14ms/step\n",
            "Epoch 21/50\n",
            "1/1 - 0s - loss: 0.0888 - accuracy: 1.0000 - 22ms/epoch - 22ms/step\n",
            "Epoch 22/50\n",
            "1/1 - 0s - loss: 0.0716 - accuracy: 1.0000 - 17ms/epoch - 17ms/step\n",
            "Epoch 23/50\n",
            "1/1 - 0s - loss: 0.0576 - accuracy: 1.0000 - 13ms/epoch - 13ms/step\n",
            "Epoch 24/50\n",
            "1/1 - 0s - loss: 0.0464 - accuracy: 1.0000 - 13ms/epoch - 13ms/step\n",
            "Epoch 25/50\n",
            "1/1 - 0s - loss: 0.0373 - accuracy: 1.0000 - 13ms/epoch - 13ms/step\n",
            "Epoch 26/50\n",
            "1/1 - 0s - loss: 0.0301 - accuracy: 1.0000 - 12ms/epoch - 12ms/step\n",
            "Epoch 27/50\n",
            "1/1 - 0s - loss: 0.0243 - accuracy: 1.0000 - 12ms/epoch - 12ms/step\n",
            "Epoch 28/50\n",
            "1/1 - 0s - loss: 0.0196 - accuracy: 1.0000 - 12ms/epoch - 12ms/step\n",
            "Epoch 29/50\n",
            "1/1 - 0s - loss: 0.0159 - accuracy: 1.0000 - 12ms/epoch - 12ms/step\n",
            "Epoch 30/50\n",
            "1/1 - 0s - loss: 0.0130 - accuracy: 1.0000 - 14ms/epoch - 14ms/step\n",
            "Epoch 31/50\n",
            "1/1 - 0s - loss: 0.0107 - accuracy: 1.0000 - 16ms/epoch - 16ms/step\n",
            "Epoch 32/50\n",
            "1/1 - 0s - loss: 0.0089 - accuracy: 1.0000 - 14ms/epoch - 14ms/step\n",
            "Epoch 33/50\n",
            "1/1 - 0s - loss: 0.0075 - accuracy: 1.0000 - 15ms/epoch - 15ms/step\n",
            "Epoch 34/50\n",
            "1/1 - 0s - loss: 0.0064 - accuracy: 1.0000 - 15ms/epoch - 15ms/step\n",
            "Epoch 35/50\n",
            "1/1 - 0s - loss: 0.0055 - accuracy: 1.0000 - 16ms/epoch - 16ms/step\n",
            "Epoch 36/50\n",
            "1/1 - 0s - loss: 0.0047 - accuracy: 1.0000 - 14ms/epoch - 14ms/step\n",
            "Epoch 37/50\n",
            "1/1 - 0s - loss: 0.0041 - accuracy: 1.0000 - 13ms/epoch - 13ms/step\n",
            "Epoch 38/50\n",
            "1/1 - 0s - loss: 0.0037 - accuracy: 1.0000 - 15ms/epoch - 15ms/step\n",
            "Epoch 39/50\n",
            "1/1 - 0s - loss: 0.0033 - accuracy: 1.0000 - 14ms/epoch - 14ms/step\n",
            "Epoch 40/50\n",
            "1/1 - 0s - loss: 0.0029 - accuracy: 1.0000 - 16ms/epoch - 16ms/step\n",
            "Epoch 41/50\n",
            "1/1 - 0s - loss: 0.0027 - accuracy: 1.0000 - 13ms/epoch - 13ms/step\n",
            "Epoch 42/50\n",
            "1/1 - 0s - loss: 0.0024 - accuracy: 1.0000 - 12ms/epoch - 12ms/step\n",
            "Epoch 43/50\n",
            "1/1 - 0s - loss: 0.0022 - accuracy: 1.0000 - 13ms/epoch - 13ms/step\n",
            "Epoch 44/50\n",
            "1/1 - 0s - loss: 0.0020 - accuracy: 1.0000 - 12ms/epoch - 12ms/step\n",
            "Epoch 45/50\n",
            "1/1 - 0s - loss: 0.0019 - accuracy: 1.0000 - 12ms/epoch - 12ms/step\n",
            "Epoch 46/50\n",
            "1/1 - 0s - loss: 0.0018 - accuracy: 1.0000 - 11ms/epoch - 11ms/step\n",
            "Epoch 47/50\n",
            "1/1 - 0s - loss: 0.0017 - accuracy: 1.0000 - 12ms/epoch - 12ms/step\n",
            "Epoch 48/50\n",
            "1/1 - 0s - loss: 0.0016 - accuracy: 1.0000 - 15ms/epoch - 15ms/step\n",
            "Epoch 49/50\n",
            "1/1 - 0s - loss: 0.0015 - accuracy: 1.0000 - 15ms/epoch - 15ms/step\n",
            "Epoch 50/50\n",
            "1/1 - 0s - loss: 0.0014 - accuracy: 1.0000 - 12ms/epoch - 12ms/step\n"
          ]
        },
        {
          "output_type": "execute_result",
          "data": {
            "text/plain": [
              "<keras.src.callbacks.History at 0x7a82fd05f5e0>"
            ]
          },
          "metadata": {},
          "execution_count": 21
        }
      ]
    },
    {
      "cell_type": "code",
      "source": [
        "# Generating text using the trained model\n",
        "seed_text = input(\"Enter the starting word: \")\n",
        "next_words = int(input(\"Enter how many words to predict: \"))\n",
        "\n",
        "for _ in range(next_words):\n",
        "    tokenized_seed = tokenizer.texts_to_sequences([seed_text])[0]\n",
        "    tokenized_seed = pad_sequences([tokenized_seed], maxlen=max_sequence_length-1, padding='pre')\n",
        "    predicted_word_index = np.argmax(model.predict(tokenized_seed), axis=-1)\n",
        "    predicted_word = tokenizer.index_word[predicted_word_index[0]]\n",
        "    seed_text += \" \" + predicted_word\n",
        "\n",
        "print(seed_text)"
      ],
      "metadata": {
        "colab": {
          "base_uri": "https://localhost:8080/"
        },
        "id": "jvcWAsiNMoLm",
        "outputId": "0c3f4f20-1531-4a8a-9b33-6b846e63f433"
      },
      "execution_count": null,
      "outputs": [
        {
          "output_type": "stream",
          "name": "stdout",
          "text": [
            "Enter the starting word: 56\n",
            "Enter how many words to predict: 45\n",
            "1/1 [==============================] - 0s 373ms/step\n",
            "1/1 [==============================] - 0s 23ms/step\n",
            "1/1 [==============================] - 0s 22ms/step\n",
            "1/1 [==============================] - 0s 22ms/step\n",
            "1/1 [==============================] - 0s 23ms/step\n",
            "1/1 [==============================] - 0s 22ms/step\n",
            "1/1 [==============================] - 0s 23ms/step\n",
            "1/1 [==============================] - 0s 21ms/step\n",
            "1/1 [==============================] - 0s 24ms/step\n",
            "1/1 [==============================] - 0s 23ms/step\n",
            "1/1 [==============================] - 0s 22ms/step\n",
            "1/1 [==============================] - 0s 21ms/step\n",
            "1/1 [==============================] - 0s 22ms/step\n",
            "1/1 [==============================] - 0s 25ms/step\n",
            "1/1 [==============================] - 0s 21ms/step\n",
            "1/1 [==============================] - 0s 21ms/step\n",
            "1/1 [==============================] - 0s 21ms/step\n",
            "1/1 [==============================] - 0s 21ms/step\n",
            "1/1 [==============================] - 0s 21ms/step\n",
            "1/1 [==============================] - 0s 24ms/step\n",
            "1/1 [==============================] - 0s 24ms/step\n",
            "1/1 [==============================] - 0s 22ms/step\n",
            "1/1 [==============================] - 0s 23ms/step\n",
            "1/1 [==============================] - 0s 22ms/step\n",
            "1/1 [==============================] - 0s 23ms/step\n",
            "1/1 [==============================] - 0s 20ms/step\n",
            "1/1 [==============================] - 0s 21ms/step\n",
            "1/1 [==============================] - 0s 21ms/step\n",
            "1/1 [==============================] - 0s 22ms/step\n",
            "1/1 [==============================] - 0s 24ms/step\n",
            "1/1 [==============================] - 0s 22ms/step\n",
            "1/1 [==============================] - 0s 21ms/step\n",
            "1/1 [==============================] - 0s 25ms/step\n",
            "1/1 [==============================] - 0s 24ms/step\n",
            "1/1 [==============================] - 0s 22ms/step\n",
            "1/1 [==============================] - 0s 21ms/step\n",
            "1/1 [==============================] - 0s 21ms/step\n",
            "1/1 [==============================] - 0s 25ms/step\n",
            "1/1 [==============================] - 0s 28ms/step\n",
            "1/1 [==============================] - 0s 21ms/step\n",
            "1/1 [==============================] - 0s 22ms/step\n",
            "1/1 [==============================] - 0s 25ms/step\n",
            "1/1 [==============================] - 0s 23ms/step\n",
            "1/1 [==============================] - 0s 22ms/step\n",
            "1/1 [==============================] - 0s 21ms/step\n",
            "56 topic topic topic is topic is rnn is rnn rnn rnn topic is rnn is rnn rnn rnn topic is rnn is rnn rnn rnn topic is rnn is rnn rnn rnn topic is rnn is rnn rnn rnn topic is rnn is rnn rnn\n"
          ]
        }
      ]
    }
  ]
}